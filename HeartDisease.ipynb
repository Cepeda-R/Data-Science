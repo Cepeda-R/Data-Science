{
  "nbformat": 4,
  "nbformat_minor": 0,
  "metadata": {
    "colab": {
      "name": "HeartDisease.ipynb",
      "provenance": [],
      "toc_visible": true,
      "authorship_tag": "ABX9TyOK3s1hUjyYHPYm1i4smSzi",
      "include_colab_link": true
    },
    "kernelspec": {
      "name": "python3",
      "display_name": "Python 3"
    },
    "language_info": {
      "name": "python"
    }
  },
  "cells": [
    {
      "cell_type": "markdown",
      "metadata": {
        "id": "view-in-github",
        "colab_type": "text"
      },
      "source": [
        "<a href=\"https://colab.research.google.com/github/Cepeda-R/Data-Science/blob/master/HeartDisease.ipynb\" target=\"_parent\"><img src=\"https://colab.research.google.com/assets/colab-badge.svg\" alt=\"Open In Colab\"/></a>"
      ]
    },
    {
      "cell_type": "markdown",
      "source": [
        "# LOAD DATA - REFRESH"
      ],
      "metadata": {
        "id": "1szDF60GLlgR"
      }
    },
    {
      "cell_type": "markdown",
      "source": [
        "Where did the dataset come from and what treatments did it undergo?\n",
        "Originally, the dataset come from the CDC and is a major part of the Behavioral Risk Factor Surveillance System (BRFSS), which conducts annual telephone surveys to gather data on the health status of U.S. residents. As the CDC describes: \"Established in 1984 with 15 states, BRFSS now collects data in all 50 states as well as the District of Columbia and three U.S. territories. BRFSS completes more than 400,000 adult interviews each year, making it the largest continuously conducted health survey system in the world.\". The most recent dataset (as of February 15, 2022) includes data from 2020. It consists of 401,958 rows and 279 columns. The vast majority of columns are questions asked to respondents about their health status, such as \"Do you have serious difficulty walking or climbing stairs?\" or \"Have you smoked at least 100 cigarettes in your entire life? [Note: 5 packs = 100 cigarettes]\". In this dataset, I noticed many different factors (questions) that directly or indirectly influence heart disease, so I decided to select the most relevant variables from it and do some cleaning so that it would be usable for machine learning projects.\n",
        "\n",
        "What can you do with this dataset?\n",
        "As described above, the original dataset of nearly 300 variables was reduced to just about 20 variables. In addition to classical EDA, this dataset can be used to apply a range of machine learning methods, most notably classifier models (logistic regression, SVM, random forest, etc.). You should treat the variable \"HeartDisease\" as a binary (\"Yes\" - respondent had heart disease; \"No\" - respondent had no heart disease). But note that classes are not balanced, so the classic model application approach is not advisable. Fixing the weights/undersampling should yield significantly betters results. Based on the dataset, I constructed a logistic regression model and embedded it in an application you might be inspired by: https://heart-condition-checker.herokuapp.com/. Can you indicate which variables have a significant effect on the likelihood of heart disease?"
      ],
      "metadata": {
        "id": "gvvlt2jlHep8"
      }
    },
    {
      "cell_type": "code",
      "execution_count": 165,
      "metadata": {
        "id": "jQ5jofNuDrZL"
      },
      "outputs": [],
      "source": [
        "import numpy as np\n",
        "import pandas as pd\n",
        "import matplotlib.pyplot as plt\n",
        "import seaborn as sns\n",
        "\n",
        "import datetime\n",
        "from datetime import date\n",
        "from pandas import datetime\n",
        "\n",
        "%matplotlib inline\n",
        "%config IPCompleter.greedy=True\n",
        "\n",
        "#from scipy.stats import shapiro\n",
        "#import statsmodels.api as sm \n",
        "\n",
        "import warnings\n",
        "warnings.filterwarnings(\"ignore\")"
      ]
    },
    {
      "cell_type": "code",
      "source": [
        "# Fetch a single <1MB file using the raw GitHub URL.\n",
        "!curl --remote-name \\\n",
        "     -H 'Accept: application/vnd.github.v3.raw' \\\n",
        "     --location https://github.com/Cepeda-R/DataSets/blob/master/heart_2020_cleaned.csv"
      ],
      "metadata": {
        "colab": {
          "base_uri": "https://localhost:8080/"
        },
        "id": "aCKbl7trH9px",
        "outputId": "270de572-7122-430e-c2d4-284b0808febe"
      },
      "execution_count": 166,
      "outputs": [
        {
          "output_type": "stream",
          "name": "stdout",
          "text": [
            "  % Total    % Received % Xferd  Average Speed   Time    Time     Time  Current\n",
            "                                 Dload  Upload   Total   Spent    Left  Speed\n",
            "100  121k    0  121k    0     0   432k      0 --:--:-- --:--:-- --:--:--  432k\n"
          ]
        }
      ]
    },
    {
      "cell_type": "code",
      "source": [
        "#clone à base de dados do github\n",
        "!git clone https://github.com/Cepeda-R/DataSets.git"
      ],
      "metadata": {
        "colab": {
          "base_uri": "https://localhost:8080/"
        },
        "id": "aUTPmeAuHnwI",
        "outputId": "ce9dc8af-78d8-4f21-8797-429e0130ce1a"
      },
      "execution_count": 167,
      "outputs": [
        {
          "output_type": "stream",
          "name": "stdout",
          "text": [
            "fatal: destination path 'DataSets' already exists and is not an empty directory.\n"
          ]
        }
      ]
    },
    {
      "cell_type": "code",
      "source": [
        "!ls #confirmar se o clone foi bem feito"
      ],
      "metadata": {
        "colab": {
          "base_uri": "https://localhost:8080/"
        },
        "id": "nyEl94GFJccV",
        "outputId": "a179cea7-019d-4c85-daa6-f03cbfc07e47"
      },
      "execution_count": 168,
      "outputs": [
        {
          "output_type": "stream",
          "name": "stdout",
          "text": [
            "DataSets  heart_2020_cleaned.csv  sample_data\n"
          ]
        }
      ]
    },
    {
      "cell_type": "code",
      "source": [
        "df_heartDisease = pd.read_csv(\"/content/DataSets/heart_2020_cleaned.csv\")\n",
        "#para tirar partido do clone tem que se colocar content e o nome do repositório"
      ],
      "metadata": {
        "id": "BIRKWvBQJgsO"
      },
      "execution_count": 169,
      "outputs": []
    },
    {
      "cell_type": "code",
      "source": [
        "df_heartDisease.tail(2)\n",
        "#heardisease será a resposta para este projeto"
      ],
      "metadata": {
        "colab": {
          "base_uri": "https://localhost:8080/",
          "height": 176
        },
        "id": "N9V--k9QKlTH",
        "outputId": "14340ed5-1650-4e9f-fd42-6005153dd82e"
      },
      "execution_count": 170,
      "outputs": [
        {
          "output_type": "execute_result",
          "data": {
            "text/plain": [
              "       HeartDisease    BMI Smoking AlcoholDrinking Stroke  PhysicalHealth  \\\n",
              "319793           No  32.81      No              No     No             0.0   \n",
              "319794           No  46.56      No              No     No             0.0   \n",
              "\n",
              "        MentalHealth DiffWalking     Sex  AgeCategory      Race Diabetic  \\\n",
              "319793           0.0          No  Female        25-29  Hispanic       No   \n",
              "319794           0.0          No  Female  80 or older  Hispanic       No   \n",
              "\n",
              "       PhysicalActivity GenHealth  SleepTime Asthma KidneyDisease SkinCancer  \n",
              "319793               No      Good       12.0     No            No         No  \n",
              "319794              Yes      Good        8.0     No            No         No  "
            ],
            "text/html": [
              "\n",
              "  <div id=\"df-9324647a-eb8c-431f-83a0-c94cfdab44e5\">\n",
              "    <div class=\"colab-df-container\">\n",
              "      <div>\n",
              "<style scoped>\n",
              "    .dataframe tbody tr th:only-of-type {\n",
              "        vertical-align: middle;\n",
              "    }\n",
              "\n",
              "    .dataframe tbody tr th {\n",
              "        vertical-align: top;\n",
              "    }\n",
              "\n",
              "    .dataframe thead th {\n",
              "        text-align: right;\n",
              "    }\n",
              "</style>\n",
              "<table border=\"1\" class=\"dataframe\">\n",
              "  <thead>\n",
              "    <tr style=\"text-align: right;\">\n",
              "      <th></th>\n",
              "      <th>HeartDisease</th>\n",
              "      <th>BMI</th>\n",
              "      <th>Smoking</th>\n",
              "      <th>AlcoholDrinking</th>\n",
              "      <th>Stroke</th>\n",
              "      <th>PhysicalHealth</th>\n",
              "      <th>MentalHealth</th>\n",
              "      <th>DiffWalking</th>\n",
              "      <th>Sex</th>\n",
              "      <th>AgeCategory</th>\n",
              "      <th>Race</th>\n",
              "      <th>Diabetic</th>\n",
              "      <th>PhysicalActivity</th>\n",
              "      <th>GenHealth</th>\n",
              "      <th>SleepTime</th>\n",
              "      <th>Asthma</th>\n",
              "      <th>KidneyDisease</th>\n",
              "      <th>SkinCancer</th>\n",
              "    </tr>\n",
              "  </thead>\n",
              "  <tbody>\n",
              "    <tr>\n",
              "      <th>319793</th>\n",
              "      <td>No</td>\n",
              "      <td>32.81</td>\n",
              "      <td>No</td>\n",
              "      <td>No</td>\n",
              "      <td>No</td>\n",
              "      <td>0.0</td>\n",
              "      <td>0.0</td>\n",
              "      <td>No</td>\n",
              "      <td>Female</td>\n",
              "      <td>25-29</td>\n",
              "      <td>Hispanic</td>\n",
              "      <td>No</td>\n",
              "      <td>No</td>\n",
              "      <td>Good</td>\n",
              "      <td>12.0</td>\n",
              "      <td>No</td>\n",
              "      <td>No</td>\n",
              "      <td>No</td>\n",
              "    </tr>\n",
              "    <tr>\n",
              "      <th>319794</th>\n",
              "      <td>No</td>\n",
              "      <td>46.56</td>\n",
              "      <td>No</td>\n",
              "      <td>No</td>\n",
              "      <td>No</td>\n",
              "      <td>0.0</td>\n",
              "      <td>0.0</td>\n",
              "      <td>No</td>\n",
              "      <td>Female</td>\n",
              "      <td>80 or older</td>\n",
              "      <td>Hispanic</td>\n",
              "      <td>No</td>\n",
              "      <td>Yes</td>\n",
              "      <td>Good</td>\n",
              "      <td>8.0</td>\n",
              "      <td>No</td>\n",
              "      <td>No</td>\n",
              "      <td>No</td>\n",
              "    </tr>\n",
              "  </tbody>\n",
              "</table>\n",
              "</div>\n",
              "      <button class=\"colab-df-convert\" onclick=\"convertToInteractive('df-9324647a-eb8c-431f-83a0-c94cfdab44e5')\"\n",
              "              title=\"Convert this dataframe to an interactive table.\"\n",
              "              style=\"display:none;\">\n",
              "        \n",
              "  <svg xmlns=\"http://www.w3.org/2000/svg\" height=\"24px\"viewBox=\"0 0 24 24\"\n",
              "       width=\"24px\">\n",
              "    <path d=\"M0 0h24v24H0V0z\" fill=\"none\"/>\n",
              "    <path d=\"M18.56 5.44l.94 2.06.94-2.06 2.06-.94-2.06-.94-.94-2.06-.94 2.06-2.06.94zm-11 1L8.5 8.5l.94-2.06 2.06-.94-2.06-.94L8.5 2.5l-.94 2.06-2.06.94zm10 10l.94 2.06.94-2.06 2.06-.94-2.06-.94-.94-2.06-.94 2.06-2.06.94z\"/><path d=\"M17.41 7.96l-1.37-1.37c-.4-.4-.92-.59-1.43-.59-.52 0-1.04.2-1.43.59L10.3 9.45l-7.72 7.72c-.78.78-.78 2.05 0 2.83L4 21.41c.39.39.9.59 1.41.59.51 0 1.02-.2 1.41-.59l7.78-7.78 2.81-2.81c.8-.78.8-2.07 0-2.86zM5.41 20L4 18.59l7.72-7.72 1.47 1.35L5.41 20z\"/>\n",
              "  </svg>\n",
              "      </button>\n",
              "      \n",
              "  <style>\n",
              "    .colab-df-container {\n",
              "      display:flex;\n",
              "      flex-wrap:wrap;\n",
              "      gap: 12px;\n",
              "    }\n",
              "\n",
              "    .colab-df-convert {\n",
              "      background-color: #E8F0FE;\n",
              "      border: none;\n",
              "      border-radius: 50%;\n",
              "      cursor: pointer;\n",
              "      display: none;\n",
              "      fill: #1967D2;\n",
              "      height: 32px;\n",
              "      padding: 0 0 0 0;\n",
              "      width: 32px;\n",
              "    }\n",
              "\n",
              "    .colab-df-convert:hover {\n",
              "      background-color: #E2EBFA;\n",
              "      box-shadow: 0px 1px 2px rgba(60, 64, 67, 0.3), 0px 1px 3px 1px rgba(60, 64, 67, 0.15);\n",
              "      fill: #174EA6;\n",
              "    }\n",
              "\n",
              "    [theme=dark] .colab-df-convert {\n",
              "      background-color: #3B4455;\n",
              "      fill: #D2E3FC;\n",
              "    }\n",
              "\n",
              "    [theme=dark] .colab-df-convert:hover {\n",
              "      background-color: #434B5C;\n",
              "      box-shadow: 0px 1px 3px 1px rgba(0, 0, 0, 0.15);\n",
              "      filter: drop-shadow(0px 1px 2px rgba(0, 0, 0, 0.3));\n",
              "      fill: #FFFFFF;\n",
              "    }\n",
              "  </style>\n",
              "\n",
              "      <script>\n",
              "        const buttonEl =\n",
              "          document.querySelector('#df-9324647a-eb8c-431f-83a0-c94cfdab44e5 button.colab-df-convert');\n",
              "        buttonEl.style.display =\n",
              "          google.colab.kernel.accessAllowed ? 'block' : 'none';\n",
              "\n",
              "        async function convertToInteractive(key) {\n",
              "          const element = document.querySelector('#df-9324647a-eb8c-431f-83a0-c94cfdab44e5');\n",
              "          const dataTable =\n",
              "            await google.colab.kernel.invokeFunction('convertToInteractive',\n",
              "                                                     [key], {});\n",
              "          if (!dataTable) return;\n",
              "\n",
              "          const docLinkHtml = 'Like what you see? Visit the ' +\n",
              "            '<a target=\"_blank\" href=https://colab.research.google.com/notebooks/data_table.ipynb>data table notebook</a>'\n",
              "            + ' to learn more about interactive tables.';\n",
              "          element.innerHTML = '';\n",
              "          dataTable['output_type'] = 'display_data';\n",
              "          await google.colab.output.renderOutput(dataTable, element);\n",
              "          const docLink = document.createElement('div');\n",
              "          docLink.innerHTML = docLinkHtml;\n",
              "          element.appendChild(docLink);\n",
              "        }\n",
              "      </script>\n",
              "    </div>\n",
              "  </div>\n",
              "  "
            ]
          },
          "metadata": {},
          "execution_count": 170
        }
      ]
    },
    {
      "cell_type": "markdown",
      "source": [
        "# EDA Exploratory and Data Analysis"
      ],
      "metadata": {
        "id": "kFqS3b3MLrtE"
      }
    },
    {
      "cell_type": "code",
      "source": [
        "#!pip install sweetviz"
      ],
      "metadata": {
        "id": "a49BjwNOLqui"
      },
      "execution_count": 171,
      "outputs": []
    },
    {
      "cell_type": "markdown",
      "source": [
        "9% of Sample Data have Heart Disease Condition"
      ],
      "metadata": {
        "id": "_g5mPR22Ecel"
      }
    },
    {
      "cell_type": "code",
      "source": [
        "#import sweetviz as sv\n",
        "\n",
        "#my_report = sv.analyze(df_heartDisease, target_feat='HeartDisease')\n",
        "#my_report.show_notebook() # Default arguments will generate to \"SWEETVIZ_REPORT.html\""
      ],
      "metadata": {
        "id": "jWh2ZbhvTV8l"
      },
      "execution_count": 172,
      "outputs": []
    },
    {
      "cell_type": "markdown",
      "source": [
        "Sweetviz already provided descriptive statistics\n",
        "alongside with correlation features\n",
        "Sweetvzi tells us AgeCategory and GenHealth have\n",
        "High relationship with HeartDisease\n",
        "However Feature Selection will be made to validate\n",
        "this information\n",
        "\n",
        "a. 9% of sample dataset has heartdisease\n",
        "\n",
        "b. BMI increase show positive impact of heartdisease\n",
        "\n",
        "c. Stroke, KidneyDisease have a high impact of heartdisease, however keep in mind that could be lead to low sample size\n",
        "\n",
        "d. Sex there is not significance diff between the two\n",
        "e. SleepTime have values above 12 hours average. It is not common to sleep so many hours above this threshold. We have to consider as outliers (remove it)\n",
        "\n",
        "f. Age - Disease has an increase with the age\n",
        "\n",
        "g. GenHealth Poor have an high impact on disease"
      ],
      "metadata": {
        "id": "YC4N5qV_cke8"
      }
    },
    {
      "cell_type": "code",
      "source": [
        "df_heartDisease.isna().sum()"
      ],
      "metadata": {
        "colab": {
          "base_uri": "https://localhost:8080/"
        },
        "id": "kKaLLBKN_vZf",
        "outputId": "0c3560c8-a55a-4dde-ee0d-afae4e2e4ca8"
      },
      "execution_count": 173,
      "outputs": [
        {
          "output_type": "execute_result",
          "data": {
            "text/plain": [
              "HeartDisease        0\n",
              "BMI                 0\n",
              "Smoking             0\n",
              "AlcoholDrinking     0\n",
              "Stroke              0\n",
              "PhysicalHealth      0\n",
              "MentalHealth        0\n",
              "DiffWalking         0\n",
              "Sex                 0\n",
              "AgeCategory         0\n",
              "Race                0\n",
              "Diabetic            0\n",
              "PhysicalActivity    0\n",
              "GenHealth           0\n",
              "SleepTime           0\n",
              "Asthma              0\n",
              "KidneyDisease       0\n",
              "SkinCancer          0\n",
              "dtype: int64"
            ]
          },
          "metadata": {},
          "execution_count": 173
        }
      ]
    },
    {
      "cell_type": "markdown",
      "source": [
        "Doesn't have null values. Duplicates are related to people having the same conditions"
      ],
      "metadata": {
        "id": "uOwGKuyYHIZi"
      }
    },
    {
      "cell_type": "code",
      "source": [
        "df_heartDisease.describe()"
      ],
      "metadata": {
        "colab": {
          "base_uri": "https://localhost:8080/",
          "height": 300
        },
        "id": "Y6PJVdrDGxub",
        "outputId": "d02c44a6-be27-42cc-acac-17df73183dee"
      },
      "execution_count": 174,
      "outputs": [
        {
          "output_type": "execute_result",
          "data": {
            "text/plain": [
              "                 BMI  PhysicalHealth   MentalHealth      SleepTime\n",
              "count  319795.000000    319795.00000  319795.000000  319795.000000\n",
              "mean       28.325399         3.37171       3.898366       7.097075\n",
              "std         6.356100         7.95085       7.955235       1.436007\n",
              "min        12.020000         0.00000       0.000000       1.000000\n",
              "25%        24.030000         0.00000       0.000000       6.000000\n",
              "50%        27.340000         0.00000       0.000000       7.000000\n",
              "75%        31.420000         2.00000       3.000000       8.000000\n",
              "max        94.850000        30.00000      30.000000      24.000000"
            ],
            "text/html": [
              "\n",
              "  <div id=\"df-0356e218-158e-40ef-a711-363e5968c0c1\">\n",
              "    <div class=\"colab-df-container\">\n",
              "      <div>\n",
              "<style scoped>\n",
              "    .dataframe tbody tr th:only-of-type {\n",
              "        vertical-align: middle;\n",
              "    }\n",
              "\n",
              "    .dataframe tbody tr th {\n",
              "        vertical-align: top;\n",
              "    }\n",
              "\n",
              "    .dataframe thead th {\n",
              "        text-align: right;\n",
              "    }\n",
              "</style>\n",
              "<table border=\"1\" class=\"dataframe\">\n",
              "  <thead>\n",
              "    <tr style=\"text-align: right;\">\n",
              "      <th></th>\n",
              "      <th>BMI</th>\n",
              "      <th>PhysicalHealth</th>\n",
              "      <th>MentalHealth</th>\n",
              "      <th>SleepTime</th>\n",
              "    </tr>\n",
              "  </thead>\n",
              "  <tbody>\n",
              "    <tr>\n",
              "      <th>count</th>\n",
              "      <td>319795.000000</td>\n",
              "      <td>319795.00000</td>\n",
              "      <td>319795.000000</td>\n",
              "      <td>319795.000000</td>\n",
              "    </tr>\n",
              "    <tr>\n",
              "      <th>mean</th>\n",
              "      <td>28.325399</td>\n",
              "      <td>3.37171</td>\n",
              "      <td>3.898366</td>\n",
              "      <td>7.097075</td>\n",
              "    </tr>\n",
              "    <tr>\n",
              "      <th>std</th>\n",
              "      <td>6.356100</td>\n",
              "      <td>7.95085</td>\n",
              "      <td>7.955235</td>\n",
              "      <td>1.436007</td>\n",
              "    </tr>\n",
              "    <tr>\n",
              "      <th>min</th>\n",
              "      <td>12.020000</td>\n",
              "      <td>0.00000</td>\n",
              "      <td>0.000000</td>\n",
              "      <td>1.000000</td>\n",
              "    </tr>\n",
              "    <tr>\n",
              "      <th>25%</th>\n",
              "      <td>24.030000</td>\n",
              "      <td>0.00000</td>\n",
              "      <td>0.000000</td>\n",
              "      <td>6.000000</td>\n",
              "    </tr>\n",
              "    <tr>\n",
              "      <th>50%</th>\n",
              "      <td>27.340000</td>\n",
              "      <td>0.00000</td>\n",
              "      <td>0.000000</td>\n",
              "      <td>7.000000</td>\n",
              "    </tr>\n",
              "    <tr>\n",
              "      <th>75%</th>\n",
              "      <td>31.420000</td>\n",
              "      <td>2.00000</td>\n",
              "      <td>3.000000</td>\n",
              "      <td>8.000000</td>\n",
              "    </tr>\n",
              "    <tr>\n",
              "      <th>max</th>\n",
              "      <td>94.850000</td>\n",
              "      <td>30.00000</td>\n",
              "      <td>30.000000</td>\n",
              "      <td>24.000000</td>\n",
              "    </tr>\n",
              "  </tbody>\n",
              "</table>\n",
              "</div>\n",
              "      <button class=\"colab-df-convert\" onclick=\"convertToInteractive('df-0356e218-158e-40ef-a711-363e5968c0c1')\"\n",
              "              title=\"Convert this dataframe to an interactive table.\"\n",
              "              style=\"display:none;\">\n",
              "        \n",
              "  <svg xmlns=\"http://www.w3.org/2000/svg\" height=\"24px\"viewBox=\"0 0 24 24\"\n",
              "       width=\"24px\">\n",
              "    <path d=\"M0 0h24v24H0V0z\" fill=\"none\"/>\n",
              "    <path d=\"M18.56 5.44l.94 2.06.94-2.06 2.06-.94-2.06-.94-.94-2.06-.94 2.06-2.06.94zm-11 1L8.5 8.5l.94-2.06 2.06-.94-2.06-.94L8.5 2.5l-.94 2.06-2.06.94zm10 10l.94 2.06.94-2.06 2.06-.94-2.06-.94-.94-2.06-.94 2.06-2.06.94z\"/><path d=\"M17.41 7.96l-1.37-1.37c-.4-.4-.92-.59-1.43-.59-.52 0-1.04.2-1.43.59L10.3 9.45l-7.72 7.72c-.78.78-.78 2.05 0 2.83L4 21.41c.39.39.9.59 1.41.59.51 0 1.02-.2 1.41-.59l7.78-7.78 2.81-2.81c.8-.78.8-2.07 0-2.86zM5.41 20L4 18.59l7.72-7.72 1.47 1.35L5.41 20z\"/>\n",
              "  </svg>\n",
              "      </button>\n",
              "      \n",
              "  <style>\n",
              "    .colab-df-container {\n",
              "      display:flex;\n",
              "      flex-wrap:wrap;\n",
              "      gap: 12px;\n",
              "    }\n",
              "\n",
              "    .colab-df-convert {\n",
              "      background-color: #E8F0FE;\n",
              "      border: none;\n",
              "      border-radius: 50%;\n",
              "      cursor: pointer;\n",
              "      display: none;\n",
              "      fill: #1967D2;\n",
              "      height: 32px;\n",
              "      padding: 0 0 0 0;\n",
              "      width: 32px;\n",
              "    }\n",
              "\n",
              "    .colab-df-convert:hover {\n",
              "      background-color: #E2EBFA;\n",
              "      box-shadow: 0px 1px 2px rgba(60, 64, 67, 0.3), 0px 1px 3px 1px rgba(60, 64, 67, 0.15);\n",
              "      fill: #174EA6;\n",
              "    }\n",
              "\n",
              "    [theme=dark] .colab-df-convert {\n",
              "      background-color: #3B4455;\n",
              "      fill: #D2E3FC;\n",
              "    }\n",
              "\n",
              "    [theme=dark] .colab-df-convert:hover {\n",
              "      background-color: #434B5C;\n",
              "      box-shadow: 0px 1px 3px 1px rgba(0, 0, 0, 0.15);\n",
              "      filter: drop-shadow(0px 1px 2px rgba(0, 0, 0, 0.3));\n",
              "      fill: #FFFFFF;\n",
              "    }\n",
              "  </style>\n",
              "\n",
              "      <script>\n",
              "        const buttonEl =\n",
              "          document.querySelector('#df-0356e218-158e-40ef-a711-363e5968c0c1 button.colab-df-convert');\n",
              "        buttonEl.style.display =\n",
              "          google.colab.kernel.accessAllowed ? 'block' : 'none';\n",
              "\n",
              "        async function convertToInteractive(key) {\n",
              "          const element = document.querySelector('#df-0356e218-158e-40ef-a711-363e5968c0c1');\n",
              "          const dataTable =\n",
              "            await google.colab.kernel.invokeFunction('convertToInteractive',\n",
              "                                                     [key], {});\n",
              "          if (!dataTable) return;\n",
              "\n",
              "          const docLinkHtml = 'Like what you see? Visit the ' +\n",
              "            '<a target=\"_blank\" href=https://colab.research.google.com/notebooks/data_table.ipynb>data table notebook</a>'\n",
              "            + ' to learn more about interactive tables.';\n",
              "          element.innerHTML = '';\n",
              "          dataTable['output_type'] = 'display_data';\n",
              "          await google.colab.output.renderOutput(dataTable, element);\n",
              "          const docLink = document.createElement('div');\n",
              "          docLink.innerHTML = docLinkHtml;\n",
              "          element.appendChild(docLink);\n",
              "        }\n",
              "      </script>\n",
              "    </div>\n",
              "  </div>\n",
              "  "
            ]
          },
          "metadata": {},
          "execution_count": 174
        }
      ]
    },
    {
      "cell_type": "markdown",
      "source": [
        "Data validated with sweetviz"
      ],
      "metadata": {
        "id": "Iqfy4VGVHPKl"
      }
    },
    {
      "cell_type": "markdown",
      "source": [
        "# Hypothesis Testing to Validate SweetViz Overview"
      ],
      "metadata": {
        "id": "-ktr5i2QcsYZ"
      }
    },
    {
      "cell_type": "code",
      "source": [
        "contigency_Age= pd.crosstab(df_heartDisease['HeartDisease'], df_heartDisease['AgeCategory'])\n",
        "contigency_Smoking= pd.crosstab(df_heartDisease['HeartDisease'], df_heartDisease['Smoking'])\n",
        "contigency_Alchool= pd.crosstab(df_heartDisease['HeartDisease'], df_heartDisease['AlcoholDrinking'])\n",
        "contigency_Stroke= pd.crosstab(df_heartDisease['HeartDisease'], df_heartDisease['Stroke'])\n",
        "contigency_DiffWalking= pd.crosstab(df_heartDisease['HeartDisease'], df_heartDisease['DiffWalking'])\n",
        "contigency_Sex= pd.crosstab(df_heartDisease['HeartDisease'], df_heartDisease['Sex'])\n",
        "contigency_Race= pd.crosstab(df_heartDisease['HeartDisease'], df_heartDisease['Race'])\n",
        "contigency_Diabetic= pd.crosstab(df_heartDisease['HeartDisease'], df_heartDisease['Diabetic'])\n",
        "contigency_GenHealth= pd.crosstab(df_heartDisease['HeartDisease'], df_heartDisease['GenHealth'])\n",
        "contigency_Asthma= pd.crosstab(df_heartDisease['HeartDisease'], df_heartDisease['Asthma'])\n",
        "contigency_KidneyDisease= pd.crosstab(df_heartDisease['HeartDisease'], df_heartDisease['KidneyDisease'])\n",
        "contigency_SkinCancer= pd.crosstab(df_heartDisease['HeartDisease'], df_heartDisease['SkinCancer'])"
      ],
      "metadata": {
        "id": "aMA2EPp4MzRk"
      },
      "execution_count": 175,
      "outputs": []
    },
    {
      "cell_type": "code",
      "source": [
        "from scipy.stats import chi2_contingency"
      ],
      "metadata": {
        "id": "d0fB8fF1Hvzl"
      },
      "execution_count": 176,
      "outputs": []
    },
    {
      "cell_type": "markdown",
      "source": [
        "Lets evaluate chisquare categorical data relationship"
      ],
      "metadata": {
        "id": "MBacO5ESQczh"
      }
    },
    {
      "cell_type": "code",
      "source": [
        "c, p, dof, expected = chi2_contingency(contigency_Age) \n",
        "print('Age', p)"
      ],
      "metadata": {
        "colab": {
          "base_uri": "https://localhost:8080/"
        },
        "id": "GgZ2JUlDPfBL",
        "outputId": "b0968fb6-a4eb-49fb-b0c1-5ca2300c22d8"
      },
      "execution_count": 177,
      "outputs": [
        {
          "output_type": "stream",
          "name": "stdout",
          "text": [
            "Age 0.0\n"
          ]
        }
      ]
    },
    {
      "cell_type": "code",
      "source": [
        "c, p, dof, expected= chi2_contingency(contigency_Smoking) \n",
        "print('Smoking', p)"
      ],
      "metadata": {
        "id": "qVCOEBFRTTaq",
        "outputId": "aec1646b-3547-46ad-fb62-f844ed90d129",
        "colab": {
          "base_uri": "https://localhost:8080/"
        }
      },
      "execution_count": 178,
      "outputs": [
        {
          "output_type": "stream",
          "name": "stdout",
          "text": [
            "Smoking 0.0\n"
          ]
        }
      ]
    },
    {
      "cell_type": "code",
      "source": [
        "c, p, dof, expected= chi2_contingency(contigency_Alchool) \n",
        "print('Alchool', p)"
      ],
      "metadata": {
        "id": "C8Ogqh4GTf4i",
        "outputId": "339cdf1e-560f-458e-b597-0f24fec739a6",
        "colab": {
          "base_uri": "https://localhost:8080/"
        }
      },
      "execution_count": 179,
      "outputs": [
        {
          "output_type": "stream",
          "name": "stdout",
          "text": [
            "Alchool 1.892352227090306e-73\n"
          ]
        }
      ]
    },
    {
      "cell_type": "code",
      "source": [
        "c, p, dof, expected= chi2_contingency(contigency_Stroke) \n",
        "print('Stroke', p)"
      ],
      "metadata": {
        "id": "wjNc40HoTf7e",
        "outputId": "5b603334-1ebd-4425-a135-730fa1440ef2",
        "colab": {
          "base_uri": "https://localhost:8080/"
        }
      },
      "execution_count": 180,
      "outputs": [
        {
          "output_type": "stream",
          "name": "stdout",
          "text": [
            "Stroke 0.0\n"
          ]
        }
      ]
    },
    {
      "cell_type": "code",
      "source": [
        "c, p, dof, expected= chi2_contingency(contigency_DiffWalking) \n",
        "print('DiffWalking', p)"
      ],
      "metadata": {
        "id": "cqZ8YawoTgDy",
        "outputId": "8653aa2b-9df6-4057-9287-37268e83de49",
        "colab": {
          "base_uri": "https://localhost:8080/"
        }
      },
      "execution_count": 181,
      "outputs": [
        {
          "output_type": "stream",
          "name": "stdout",
          "text": [
            "DiffWalking 0.0\n"
          ]
        }
      ]
    },
    {
      "cell_type": "code",
      "source": [
        "c, p, dof, expected= chi2_contingency(contigency_Sex) \n",
        "print('Sex', p)"
      ],
      "metadata": {
        "id": "OYXgTMkEUD-_",
        "outputId": "1b07b9de-aa52-4cf3-c00c-1cfb304af733",
        "colab": {
          "base_uri": "https://localhost:8080/"
        }
      },
      "execution_count": 182,
      "outputs": [
        {
          "output_type": "stream",
          "name": "stdout",
          "text": [
            "Sex 0.0\n"
          ]
        }
      ]
    },
    {
      "cell_type": "code",
      "source": [
        "c, p, dof, expected= chi2_contingency(contigency_Race) \n",
        "print('Race', p)"
      ],
      "metadata": {
        "id": "LOp1Fjw3UEB3",
        "outputId": "93cca440-9f43-4a57-f133-28df57531964",
        "colab": {
          "base_uri": "https://localhost:8080/"
        }
      },
      "execution_count": 183,
      "outputs": [
        {
          "output_type": "stream",
          "name": "stdout",
          "text": [
            "Race 2.9886131565632597e-180\n"
          ]
        }
      ]
    },
    {
      "cell_type": "code",
      "source": [
        "c, p, dof, expected= chi2_contingency(contigency_Diabetic) \n",
        "print('Diabetic', p)"
      ],
      "metadata": {
        "id": "oiMoSkV6UEEq",
        "outputId": "8bda6565-b711-44bf-bda2-26e230dc2bd5",
        "colab": {
          "base_uri": "https://localhost:8080/"
        }
      },
      "execution_count": 184,
      "outputs": [
        {
          "output_type": "stream",
          "name": "stdout",
          "text": [
            "Diabetic 0.0\n"
          ]
        }
      ]
    },
    {
      "cell_type": "code",
      "source": [
        "c, p, dof, expected= chi2_contingency(contigency_GenHealth) \n",
        "print('GenHealth', p)"
      ],
      "metadata": {
        "id": "Cf_xzBr_UXq-",
        "outputId": "a62e9c5c-5ae7-41a3-97fa-295e1b47a27f",
        "colab": {
          "base_uri": "https://localhost:8080/"
        }
      },
      "execution_count": 185,
      "outputs": [
        {
          "output_type": "stream",
          "name": "stdout",
          "text": [
            "GenHealth 0.0\n"
          ]
        }
      ]
    },
    {
      "cell_type": "code",
      "source": [
        "c, p, dof, expected= chi2_contingency(contigency_Asthma) \n",
        "print('Asthma', p)"
      ],
      "metadata": {
        "id": "s_1krnAEUX4x",
        "outputId": "1bcdcfea-4a99-4173-f4e9-434da41d7211",
        "colab": {
          "base_uri": "https://localhost:8080/"
        }
      },
      "execution_count": 186,
      "outputs": [
        {
          "output_type": "stream",
          "name": "stdout",
          "text": [
            "Asthma 2.2386144306283177e-121\n"
          ]
        }
      ]
    },
    {
      "cell_type": "code",
      "source": [
        "c, p, dof, expected= chi2_contingency(contigency_KidneyDisease) \n",
        "print('KidneyDisease', p)"
      ],
      "metadata": {
        "id": "Ww6RFxbCUYA6",
        "outputId": "b60d1f25-009a-4e0b-b0d8-e40cc243a40b",
        "colab": {
          "base_uri": "https://localhost:8080/"
        }
      },
      "execution_count": 187,
      "outputs": [
        {
          "output_type": "stream",
          "name": "stdout",
          "text": [
            "KidneyDisease 0.0\n"
          ]
        }
      ]
    },
    {
      "cell_type": "code",
      "source": [
        "c, p, dof, expected= chi2_contingency(contigency_SkinCancer) \n",
        "print('SkinCancer', p)"
      ],
      "metadata": {
        "id": "PcHy0gemUqpU",
        "outputId": "5e111db5-9ed3-45d4-99bd-ef089392c89b",
        "colab": {
          "base_uri": "https://localhost:8080/"
        }
      },
      "execution_count": 188,
      "outputs": [
        {
          "output_type": "stream",
          "name": "stdout",
          "text": [
            "SkinCancer 0.0\n"
          ]
        }
      ]
    },
    {
      "cell_type": "markdown",
      "source": [
        "Using P Value is not enough. A different approach must be made"
      ],
      "metadata": {
        "id": "sVe8xSc07By_"
      }
    },
    {
      "cell_type": "markdown",
      "source": [
        "# Transform Categorical Values to Ordinal for Feature Selection"
      ],
      "metadata": {
        "id": "wmKTdAHrc7WA"
      }
    },
    {
      "cell_type": "code",
      "source": [
        "df_heartDisease.dtypes"
      ],
      "metadata": {
        "id": "N96nxs6tV1wM",
        "colab": {
          "base_uri": "https://localhost:8080/"
        },
        "outputId": "6efac85d-af2f-4135-d4d6-7fc3ab3b4ead"
      },
      "execution_count": 189,
      "outputs": [
        {
          "output_type": "execute_result",
          "data": {
            "text/plain": [
              "HeartDisease         object\n",
              "BMI                 float64\n",
              "Smoking              object\n",
              "AlcoholDrinking      object\n",
              "Stroke               object\n",
              "PhysicalHealth      float64\n",
              "MentalHealth        float64\n",
              "DiffWalking          object\n",
              "Sex                  object\n",
              "AgeCategory          object\n",
              "Race                 object\n",
              "Diabetic             object\n",
              "PhysicalActivity     object\n",
              "GenHealth            object\n",
              "SleepTime           float64\n",
              "Asthma               object\n",
              "KidneyDisease        object\n",
              "SkinCancer           object\n",
              "dtype: object"
            ]
          },
          "metadata": {},
          "execution_count": 189
        }
      ]
    },
    {
      "cell_type": "code",
      "source": [
        "from sklearn.preprocessing import OrdinalEncoder"
      ],
      "metadata": {
        "id": "75GwoXjn_mF4"
      },
      "execution_count": 190,
      "outputs": []
    },
    {
      "cell_type": "code",
      "source": [
        "enc = OrdinalEncoder()\n",
        "df_heartDisease[[\"HeartDisease\",\"Smoking\", \"AlcoholDrinking\", \"Stroke\", \"DiffWalking\", \"Race\", \"AgeCategory\", \"Sex\", \"Diabetic\", \"PhysicalActivity\", \"GenHealth\", \"Asthma\", \"KidneyDisease\", \"SkinCancer\" ]] = enc.fit_transform(df_heartDisease[[\"HeartDisease\",\"Smoking\", \"AlcoholDrinking\", \"Stroke\", \"DiffWalking\", \"Race\", \"AgeCategory\", \"Sex\", \"Diabetic\", \"PhysicalActivity\", \"GenHealth\", \"Asthma\", \"KidneyDisease\", \"SkinCancer\" ]])"
      ],
      "metadata": {
        "id": "gTwQNgs5CYpu"
      },
      "execution_count": 191,
      "outputs": []
    },
    {
      "cell_type": "markdown",
      "source": [
        "Must transform Categorical Data to Ordinal for feature selection analysis"
      ],
      "metadata": {
        "id": "CKT7PWL2dSCC"
      }
    },
    {
      "cell_type": "code",
      "source": [
        "X = df_heartDisease.iloc[:,1:17]  #independent columns\n",
        "y = df_heartDisease['HeartDisease']    #target column i.e price range"
      ],
      "metadata": {
        "id": "2CJUCr9H782Z"
      },
      "execution_count": 192,
      "outputs": []
    },
    {
      "cell_type": "markdown",
      "source": [
        "# Feature Selection Analysis"
      ],
      "metadata": {
        "id": "Yi4cQpsvdEzv"
      }
    },
    {
      "cell_type": "code",
      "source": [
        "from sklearn.feature_selection import SelectKBest\n",
        "from sklearn.feature_selection import chi2"
      ],
      "metadata": {
        "id": "05QjCvef7M5v"
      },
      "execution_count": 193,
      "outputs": []
    },
    {
      "cell_type": "code",
      "source": [
        "bestfeatures = SelectKBest(score_func=chi2, k=16)\n",
        "fit = bestfeatures.fit(X,y)\n",
        "dfscores_kbest = pd.DataFrame(fit.scores_)\n",
        "dfcolumns_kbest = pd.DataFrame(X.columns)\n",
        "#concat two dataframes for better visualization \n",
        "featureScores = pd.concat([dfcolumns_kbest,dfscores_kbest],axis=1)\n",
        "featureScores.columns = ['Specs_Kbest','Score']  #naming the dataframe columns\n",
        "print(featureScores.nlargest(16,'Score'))  #print 10 best featur"
      ],
      "metadata": {
        "colab": {
          "base_uri": "https://localhost:8080/"
        },
        "id": "ay1uYa5l7fKx",
        "outputId": "2c3022a3-59ab-4254-d67e-b2713af26c52"
      },
      "execution_count": 194,
      "outputs": [
        {
          "output_type": "stream",
          "name": "stdout",
          "text": [
            "         Specs_Kbest          Score\n",
            "4     PhysicalHealth  174751.529924\n",
            "8        AgeCategory   33991.390453\n",
            "10          Diabetic   15526.406399\n",
            "3             Stroke   11922.577647\n",
            "6        DiffWalking   11154.414931\n",
            "15     KidneyDisease    6493.654143\n",
            "5       MentalHealth    4243.691008\n",
            "1            Smoking    2181.953023\n",
            "0                BMI    1224.020726\n",
            "7                Sex     823.195671\n",
            "11  PhysicalActivity     718.810142\n",
            "14            Asthma     475.647835\n",
            "2    AlcoholDrinking     306.693270\n",
            "9               Race     129.834374\n",
            "12         GenHealth      41.496727\n",
            "13         SleepTime       6.442351\n"
          ]
        }
      ]
    },
    {
      "cell_type": "code",
      "source": [
        "Kbest_feature = pd.DataFrame(featureScores.nlargest(16,'Score')['Specs_Kbest'])"
      ],
      "metadata": {
        "id": "NVXZ-RSTmNIs"
      },
      "execution_count": 195,
      "outputs": []
    },
    {
      "cell_type": "markdown",
      "source": [
        "Asthma AlcoholDrinking and Race doens't have a big impact as seen in ChiSquared univariate test"
      ],
      "metadata": {
        "id": "jBH47lqIGF8z"
      }
    },
    {
      "cell_type": "markdown",
      "source": [
        "Test SleepTime & BMI to Target are continuous variables. Must use Anova to understand the impact"
      ],
      "metadata": {
        "id": "_uBhb5ztGP2r"
      }
    },
    {
      "cell_type": "markdown",
      "source": [
        "**O SelectKBest is optimal only for categorical variables. BMI is continuous variable influencing data!** A different algorithm must be use"
      ],
      "metadata": {
        "id": "0dPmilLOhjmH"
      }
    },
    {
      "cell_type": "code",
      "source": [
        "import scipy.stats as stats\n",
        "# stats f_oneway functions takes the groups as input and returns ANOVA F and p value\n",
        "fvalue, pvalue = stats.f_oneway(df_heartDisease['HeartDisease'], df_heartDisease['BMI'])\n",
        "print(fvalue, pvalue)"
      ],
      "metadata": {
        "colab": {
          "base_uri": "https://localhost:8080/"
        },
        "id": "3KJAQ8RF84PL",
        "outputId": "e9007b29-a053-4d59-af8f-ac993f30cb6d"
      },
      "execution_count": 196,
      "outputs": [
        {
          "output_type": "stream",
          "name": "stdout",
          "text": [
            "6300470.152144521 0.0\n"
          ]
        }
      ]
    },
    {
      "cell_type": "code",
      "source": [
        "fvalue, pvalue = stats.f_oneway(df_heartDisease['SleepTime'], df_heartDisease['BMI'], df_heartDisease['HeartDisease'])\n",
        "print(fvalue, pvalue)"
      ],
      "metadata": {
        "colab": {
          "base_uri": "https://localhost:8080/"
        },
        "id": "PhT9niXXHPLj",
        "outputId": "8411d07f-434b-42b0-f7ef-efa762748b45"
      },
      "execution_count": 197,
      "outputs": [
        {
          "output_type": "stream",
          "name": "stdout",
          "text": [
            "4876148.310351412 0.0\n"
          ]
        }
      ]
    },
    {
      "cell_type": "code",
      "source": [
        "fvalue, pvalue = stats.f_oneway(df_heartDisease['PhysicalHealth'],  df_heartDisease['HeartDisease'])\n",
        "print(fvalue, pvalue)"
      ],
      "metadata": {
        "colab": {
          "base_uri": "https://localhost:8080/"
        },
        "id": "lkBeJLrEKvKk",
        "outputId": "099e933a-5704-4ed2-a089-64cd9388092f"
      },
      "execution_count": 198,
      "outputs": [
        {
          "output_type": "stream",
          "name": "stdout",
          "text": [
            "54559.77199966619 0.0\n"
          ]
        }
      ]
    },
    {
      "cell_type": "code",
      "source": [
        "fvalue, pvalue = stats.f_oneway(df_heartDisease['AgeCategory'],  df_heartDisease['HeartDisease'])\n",
        "print(fvalue, pvalue)"
      ],
      "metadata": {
        "colab": {
          "base_uri": "https://localhost:8080/"
        },
        "id": "CZTf98DYK3gM",
        "outputId": "e7c85c1a-ec73-47b7-b7c4-2256e707cce3"
      },
      "execution_count": 199,
      "outputs": [
        {
          "output_type": "stream",
          "name": "stdout",
          "text": [
            "1033768.517361814 0.0\n"
          ]
        }
      ]
    },
    {
      "cell_type": "code",
      "source": [
        "fvalue, pvalue = stats.f_oneway(df_heartDisease['MentalHealth'],  df_heartDisease['HeartDisease'])\n",
        "print(fvalue, pvalue)"
      ],
      "metadata": {
        "colab": {
          "base_uri": "https://localhost:8080/"
        },
        "id": "ZvyP_dKPK8zh",
        "outputId": "ef7f01b4-f50d-4c8c-c510-2a1083e98518"
      },
      "execution_count": 200,
      "outputs": [
        {
          "output_type": "stream",
          "name": "stdout",
          "text": [
            "73368.59536564087 0.0\n"
          ]
        }
      ]
    },
    {
      "cell_type": "markdown",
      "source": [
        "ANOVA tests have p value bellow 0,05. That means float/continuous variables have as well impact. Another point to justify another aproach for feature selection"
      ],
      "metadata": {
        "id": "jopIQeFSLIQb"
      }
    },
    {
      "cell_type": "code",
      "source": [
        "from sklearn.ensemble import ExtraTreesClassifier\n",
        "import matplotlib.pyplot as plt\n",
        "\n",
        "model = ExtraTreesClassifier()\n",
        "model.fit(X,y)\n",
        "dfscores_extra = pd.DataFrame(model.feature_importances_)\n",
        "dfcolumns_extra = pd.DataFrame(X.columns)\n",
        "featureScores_extra = pd.concat([dfcolumns_extra,dfscores_extra],axis=1)\n",
        "featureScores_extra.columns = ['Specs_ExtraTree','Score'] \n",
        "ExtraTree_feature = pd.DataFrame(featureScores_extra.nlargest(16,'Score')['Specs_ExtraTree'])"
      ],
      "metadata": {
        "id": "Cgv8u_mjIj-R"
      },
      "execution_count": 201,
      "outputs": []
    },
    {
      "cell_type": "code",
      "source": [
        "from sklearn.feature_selection import RFE\n",
        "from sklearn.tree import DecisionTreeClassifier\n",
        "\n",
        "rfe_selector = RFE(DecisionTreeClassifier(), n_features_to_select=16)\n",
        "rfe_selector.fit(X, y)\n",
        "dfscores_dtree = pd.DataFrame(rfe_selector.estimator_.feature_importances_)\n",
        "dfcolumns_dtree = pd.DataFrame(X.columns)\n",
        "featureScores_dtree = pd.concat([dfcolumns_dtree, dfscores_dtree], axis=1)\n",
        "featureScores_dtree.columns = ['Specs_dtree','Score']\n",
        "dtree_feature = pd.DataFrame(featureScores_dtree.nlargest(16,'Score')['Specs_dtree'])"
      ],
      "metadata": {
        "id": "0PvR7fLgLwwm"
      },
      "execution_count": 202,
      "outputs": []
    },
    {
      "cell_type": "code",
      "source": [
        "#threshold to low to find all of variables\n",
        "from sklearn.feature_selection import SelectFromModel\n",
        "from sklearn.linear_model import LogisticRegression\n",
        "\n",
        "sfm_selector = SelectFromModel(estimator=LogisticRegression(), threshold=0.00000000006)\n",
        "sfm_selector.fit(X, y)\n",
        "dfscores_sfma = pd.DataFrame(sfm_selector.estimator_.coef_)\n",
        "dfscores_sfm = dfscores_sfma.transpose()\n",
        "dfcolumns_sfm = pd.DataFrame(X.columns)\n",
        "featureScores_sfm = pd.concat([dfcolumns_sfm, dfscores_sfm], axis=1)\n",
        "featureScores_sfm.columns = ['Specs_sfm','Score']\n",
        "sfm_feature = pd.DataFrame(featureScores_sfm.nlargest(16,'Score')['Specs_sfm'])"
      ],
      "metadata": {
        "id": "bGMheJXVNu-l"
      },
      "execution_count": 203,
      "outputs": []
    },
    {
      "cell_type": "markdown",
      "source": [
        "Using Logistic Regression gives features different from extra tree model/estimator, alongside with SelectKBest and Sweetviz. **Bellow a table of feature selection by each algorithm**"
      ],
      "metadata": {
        "id": "68zRSyvOegyY"
      }
    },
    {
      "cell_type": "code",
      "source": [
        "sfm_logistic_feature = sfm_feature.reset_index()\n",
        "rfe_decisiontree_feature = dtree_feature.reset_index()\n",
        "ExtraTree_Decision_feature = ExtraTree_feature.reset_index()\n",
        "Chi_Kbest_feature = Kbest_feature.reset_index()\n",
        "Chi_Kbest_feature.drop('index', axis=1, inplace=True)\n",
        "ExtraTree_Decision_feature.drop('index', axis=1, inplace=True)\n",
        "rfe_decisiontree_feature.drop('index', axis=1, inplace=True)\n",
        "sfm_logistic_feature.drop('index', axis=1, inplace=True)"
      ],
      "metadata": {
        "id": "zo0XaVB38KUV"
      },
      "execution_count": 204,
      "outputs": []
    },
    {
      "cell_type": "code",
      "source": [
        "sfm_logistic_feature['Value'] = range(16,0,-1)\n",
        "rfe_decisiontree_feature['Value'] = range(16,0,-1)\n",
        "ExtraTree_Decision_feature['Value'] = range(16,0,-1)\n",
        "Chi_Kbest_feature['Value'] = range(16,0,-1)"
      ],
      "metadata": {
        "id": "cwXzdc2TYfGX"
      },
      "execution_count": 205,
      "outputs": []
    },
    {
      "cell_type": "code",
      "source": [
        "sfm_logistic_feature['Parameter'] = sfm_logistic_feature['Specs_sfm']\n",
        "rfe_decisiontree_feature['Parameter'] = rfe_decisiontree_feature['Specs_dtree'] \n",
        "ExtraTree_Decision_feature['Parameter'] = ExtraTree_Decision_feature['Specs_ExtraTree']\n",
        "Chi_Kbest_feature['Parameter'] = Chi_Kbest_feature['Specs_Kbest']"
      ],
      "metadata": {
        "id": "CZrMTHNpdENc"
      },
      "execution_count": 206,
      "outputs": []
    },
    {
      "cell_type": "code",
      "source": [
        "Chi_Kbest_feature.drop('Specs_Kbest', axis=1, inplace=True)\n",
        "ExtraTree_Decision_feature.drop('Specs_ExtraTree', axis=1, inplace=True)\n",
        "rfe_decisiontree_feature.drop('Specs_dtree', axis=1, inplace=True)\n",
        "sfm_logistic_feature.drop('Specs_sfm', axis=1, inplace=True)"
      ],
      "metadata": {
        "id": "bcPNas9Sdk3m"
      },
      "execution_count": 207,
      "outputs": []
    },
    {
      "cell_type": "code",
      "source": [
        "Chi_Kbest_feature['Value'] = Chi_Kbest_feature['Value']*50\n",
        "ExtraTree_Decision_feature['Value'] = ExtraTree_Decision_feature['Value']*50\n",
        "rfe_decisiontree_feature['Value'] = rfe_decisiontree_feature['Value']*50\n",
        "sfm_logistic_feature['Value'] = sfm_logistic_feature['Value']*50"
      ],
      "metadata": {
        "id": "0hzUATI1gN89"
      },
      "execution_count": 208,
      "outputs": []
    },
    {
      "cell_type": "code",
      "source": [
        "ResultsParameter= pd.concat([sfm_logistic_feature, rfe_decisiontree_feature, ExtraTree_Decision_feature, Chi_Kbest_feature],ignore_index=True)"
      ],
      "metadata": {
        "id": "GTQTbdEqcULU"
      },
      "execution_count": 209,
      "outputs": []
    },
    {
      "cell_type": "code",
      "source": [
        "ResultsParameter = ResultsParameter.groupby('Parameter')[['Value']].sum().nlargest(16, 'Value')"
      ],
      "metadata": {
        "id": "iYij4ESIZ1xH"
      },
      "execution_count": 210,
      "outputs": []
    },
    {
      "cell_type": "code",
      "source": [
        "ResultsParameter['Value%'] = ResultsParameter['Value']/ResultsParameter['Value'].sum()*100"
      ],
      "metadata": {
        "id": "VIU-6ck7BnE_"
      },
      "execution_count": 211,
      "outputs": []
    },
    {
      "cell_type": "code",
      "source": [
        "ResultsParameter"
      ],
      "metadata": {
        "colab": {
          "base_uri": "https://localhost:8080/",
          "height": 0
        },
        "id": "Q8FAbHRNgC9I",
        "outputId": "1627bd0b-ef60-4a76-b738-f4cd450916e9"
      },
      "execution_count": 212,
      "outputs": [
        {
          "output_type": "execute_result",
          "data": {
            "text/plain": [
              "                  Value    Value%\n",
              "Parameter                        \n",
              "AgeCategory        2650  9.742647\n",
              "PhysicalHealth     2500  9.191176\n",
              "BMI                2300  8.455882\n",
              "Stroke             2300  8.455882\n",
              "MentalHealth       2050  7.536765\n",
              "Diabetic           2000  7.352941\n",
              "SleepTime          1700  6.250000\n",
              "DiffWalking        1600  5.882353\n",
              "KidneyDisease      1550  5.698529\n",
              "Sex                1450  5.330882\n",
              "Smoking            1450  5.330882\n",
              "GenHealth          1400  5.147059\n",
              "Race               1400  5.147059\n",
              "Asthma             1350  4.963235\n",
              "PhysicalActivity   1150  4.227941\n",
              "AlcoholDrinking     350  1.286765"
            ],
            "text/html": [
              "\n",
              "  <div id=\"df-9eb932c5-2363-416b-8fc6-76367679d5c7\">\n",
              "    <div class=\"colab-df-container\">\n",
              "      <div>\n",
              "<style scoped>\n",
              "    .dataframe tbody tr th:only-of-type {\n",
              "        vertical-align: middle;\n",
              "    }\n",
              "\n",
              "    .dataframe tbody tr th {\n",
              "        vertical-align: top;\n",
              "    }\n",
              "\n",
              "    .dataframe thead th {\n",
              "        text-align: right;\n",
              "    }\n",
              "</style>\n",
              "<table border=\"1\" class=\"dataframe\">\n",
              "  <thead>\n",
              "    <tr style=\"text-align: right;\">\n",
              "      <th></th>\n",
              "      <th>Value</th>\n",
              "      <th>Value%</th>\n",
              "    </tr>\n",
              "    <tr>\n",
              "      <th>Parameter</th>\n",
              "      <th></th>\n",
              "      <th></th>\n",
              "    </tr>\n",
              "  </thead>\n",
              "  <tbody>\n",
              "    <tr>\n",
              "      <th>AgeCategory</th>\n",
              "      <td>2650</td>\n",
              "      <td>9.742647</td>\n",
              "    </tr>\n",
              "    <tr>\n",
              "      <th>PhysicalHealth</th>\n",
              "      <td>2500</td>\n",
              "      <td>9.191176</td>\n",
              "    </tr>\n",
              "    <tr>\n",
              "      <th>BMI</th>\n",
              "      <td>2300</td>\n",
              "      <td>8.455882</td>\n",
              "    </tr>\n",
              "    <tr>\n",
              "      <th>Stroke</th>\n",
              "      <td>2300</td>\n",
              "      <td>8.455882</td>\n",
              "    </tr>\n",
              "    <tr>\n",
              "      <th>MentalHealth</th>\n",
              "      <td>2050</td>\n",
              "      <td>7.536765</td>\n",
              "    </tr>\n",
              "    <tr>\n",
              "      <th>Diabetic</th>\n",
              "      <td>2000</td>\n",
              "      <td>7.352941</td>\n",
              "    </tr>\n",
              "    <tr>\n",
              "      <th>SleepTime</th>\n",
              "      <td>1700</td>\n",
              "      <td>6.250000</td>\n",
              "    </tr>\n",
              "    <tr>\n",
              "      <th>DiffWalking</th>\n",
              "      <td>1600</td>\n",
              "      <td>5.882353</td>\n",
              "    </tr>\n",
              "    <tr>\n",
              "      <th>KidneyDisease</th>\n",
              "      <td>1550</td>\n",
              "      <td>5.698529</td>\n",
              "    </tr>\n",
              "    <tr>\n",
              "      <th>Sex</th>\n",
              "      <td>1450</td>\n",
              "      <td>5.330882</td>\n",
              "    </tr>\n",
              "    <tr>\n",
              "      <th>Smoking</th>\n",
              "      <td>1450</td>\n",
              "      <td>5.330882</td>\n",
              "    </tr>\n",
              "    <tr>\n",
              "      <th>GenHealth</th>\n",
              "      <td>1400</td>\n",
              "      <td>5.147059</td>\n",
              "    </tr>\n",
              "    <tr>\n",
              "      <th>Race</th>\n",
              "      <td>1400</td>\n",
              "      <td>5.147059</td>\n",
              "    </tr>\n",
              "    <tr>\n",
              "      <th>Asthma</th>\n",
              "      <td>1350</td>\n",
              "      <td>4.963235</td>\n",
              "    </tr>\n",
              "    <tr>\n",
              "      <th>PhysicalActivity</th>\n",
              "      <td>1150</td>\n",
              "      <td>4.227941</td>\n",
              "    </tr>\n",
              "    <tr>\n",
              "      <th>AlcoholDrinking</th>\n",
              "      <td>350</td>\n",
              "      <td>1.286765</td>\n",
              "    </tr>\n",
              "  </tbody>\n",
              "</table>\n",
              "</div>\n",
              "      <button class=\"colab-df-convert\" onclick=\"convertToInteractive('df-9eb932c5-2363-416b-8fc6-76367679d5c7')\"\n",
              "              title=\"Convert this dataframe to an interactive table.\"\n",
              "              style=\"display:none;\">\n",
              "        \n",
              "  <svg xmlns=\"http://www.w3.org/2000/svg\" height=\"24px\"viewBox=\"0 0 24 24\"\n",
              "       width=\"24px\">\n",
              "    <path d=\"M0 0h24v24H0V0z\" fill=\"none\"/>\n",
              "    <path d=\"M18.56 5.44l.94 2.06.94-2.06 2.06-.94-2.06-.94-.94-2.06-.94 2.06-2.06.94zm-11 1L8.5 8.5l.94-2.06 2.06-.94-2.06-.94L8.5 2.5l-.94 2.06-2.06.94zm10 10l.94 2.06.94-2.06 2.06-.94-2.06-.94-.94-2.06-.94 2.06-2.06.94z\"/><path d=\"M17.41 7.96l-1.37-1.37c-.4-.4-.92-.59-1.43-.59-.52 0-1.04.2-1.43.59L10.3 9.45l-7.72 7.72c-.78.78-.78 2.05 0 2.83L4 21.41c.39.39.9.59 1.41.59.51 0 1.02-.2 1.41-.59l7.78-7.78 2.81-2.81c.8-.78.8-2.07 0-2.86zM5.41 20L4 18.59l7.72-7.72 1.47 1.35L5.41 20z\"/>\n",
              "  </svg>\n",
              "      </button>\n",
              "      \n",
              "  <style>\n",
              "    .colab-df-container {\n",
              "      display:flex;\n",
              "      flex-wrap:wrap;\n",
              "      gap: 12px;\n",
              "    }\n",
              "\n",
              "    .colab-df-convert {\n",
              "      background-color: #E8F0FE;\n",
              "      border: none;\n",
              "      border-radius: 50%;\n",
              "      cursor: pointer;\n",
              "      display: none;\n",
              "      fill: #1967D2;\n",
              "      height: 32px;\n",
              "      padding: 0 0 0 0;\n",
              "      width: 32px;\n",
              "    }\n",
              "\n",
              "    .colab-df-convert:hover {\n",
              "      background-color: #E2EBFA;\n",
              "      box-shadow: 0px 1px 2px rgba(60, 64, 67, 0.3), 0px 1px 3px 1px rgba(60, 64, 67, 0.15);\n",
              "      fill: #174EA6;\n",
              "    }\n",
              "\n",
              "    [theme=dark] .colab-df-convert {\n",
              "      background-color: #3B4455;\n",
              "      fill: #D2E3FC;\n",
              "    }\n",
              "\n",
              "    [theme=dark] .colab-df-convert:hover {\n",
              "      background-color: #434B5C;\n",
              "      box-shadow: 0px 1px 3px 1px rgba(0, 0, 0, 0.15);\n",
              "      filter: drop-shadow(0px 1px 2px rgba(0, 0, 0, 0.3));\n",
              "      fill: #FFFFFF;\n",
              "    }\n",
              "  </style>\n",
              "\n",
              "      <script>\n",
              "        const buttonEl =\n",
              "          document.querySelector('#df-9eb932c5-2363-416b-8fc6-76367679d5c7 button.colab-df-convert');\n",
              "        buttonEl.style.display =\n",
              "          google.colab.kernel.accessAllowed ? 'block' : 'none';\n",
              "\n",
              "        async function convertToInteractive(key) {\n",
              "          const element = document.querySelector('#df-9eb932c5-2363-416b-8fc6-76367679d5c7');\n",
              "          const dataTable =\n",
              "            await google.colab.kernel.invokeFunction('convertToInteractive',\n",
              "                                                     [key], {});\n",
              "          if (!dataTable) return;\n",
              "\n",
              "          const docLinkHtml = 'Like what you see? Visit the ' +\n",
              "            '<a target=\"_blank\" href=https://colab.research.google.com/notebooks/data_table.ipynb>data table notebook</a>'\n",
              "            + ' to learn more about interactive tables.';\n",
              "          element.innerHTML = '';\n",
              "          dataTable['output_type'] = 'display_data';\n",
              "          await google.colab.output.renderOutput(dataTable, element);\n",
              "          const docLink = document.createElement('div');\n",
              "          docLink.innerHTML = docLinkHtml;\n",
              "          element.appendChild(docLink);\n",
              "        }\n",
              "      </script>\n",
              "    </div>\n",
              "  </div>\n",
              "  "
            ]
          },
          "metadata": {},
          "execution_count": 212
        }
      ]
    },
    {
      "cell_type": "markdown",
      "source": [
        "**Physical Health\n",
        "Age Category\n",
        "Diabetic\n",
        "Stroke\n",
        "DiffWalking\n",
        "KidneyDisease\n",
        "MentalHealth\n",
        "Smoking\n",
        "BMI** are the best variables for the model\n"
      ],
      "metadata": {
        "id": "KNE7x1X2dS8k"
      }
    },
    {
      "cell_type": "markdown",
      "source": [
        "Assigned to each feature selection model 16 values Descending (from TOP 1 to 16) and multiply 100 times to enlarge differences between pivoted Parameters. Applied Pareto in a new column to remove the last 20% (Pareto Analysis)"
      ],
      "metadata": {
        "id": "luIZHp95fSrz"
      }
    },
    {
      "cell_type": "markdown",
      "source": [
        "# Treat Data - Remove non-critical variables for ML Model train & Test"
      ],
      "metadata": {
        "id": "XSe0lEVhdtro"
      }
    },
    {
      "cell_type": "code",
      "source": [
        "df_heartDisease[[\"HeartDisease\",\"Smoking\", \"AlcoholDrinking\", \"Stroke\", \"DiffWalking\", \"Race\", \"AgeCategory\", \"Sex\", \"Diabetic\", \"PhysicalActivity\", \"GenHealth\", \"Asthma\", \"KidneyDisease\", \"SkinCancer\" ]] = enc.inverse_transform(df_heartDisease[[\"HeartDisease\",\"Smoking\", \"AlcoholDrinking\", \"Stroke\", \"DiffWalking\", \"Race\", \"AgeCategory\", \"Sex\", \"Diabetic\", \"PhysicalActivity\", \"GenHealth\", \"Asthma\", \"KidneyDisease\", \"SkinCancer\" ]])"
      ],
      "metadata": {
        "id": "UOlj1ZJsqGwW"
      },
      "execution_count": 213,
      "outputs": []
    },
    {
      "cell_type": "code",
      "source": [
        "df_heartDisease_forTrain = df_heartDisease[['HeartDisease','AgeCategory','PhysicalHealth', 'BMI', 'Stroke', 'MentalHealth', 'Diabetic', 'SleepTime', 'DiffWalking', 'KidneyDisease', 'Sex', 'Smoking']]"
      ],
      "metadata": {
        "id": "ipyf6AMLlL9t"
      },
      "execution_count": 214,
      "outputs": []
    },
    {
      "cell_type": "markdown",
      "source": [
        "It is necessary to encode for training"
      ],
      "metadata": {
        "id": "TrCp4Wu0tQFE"
      }
    },
    {
      "cell_type": "code",
      "source": [
        "df_heartDisease_forTrain[[\"HeartDisease\",\"AgeCategory\", \"Stroke\", \"Diabetic\", \"DiffWalking\", \"KidneyDisease\", \"Sex\",\"Smoking\"]] = enc.fit_transform(df_heartDisease_forTrain[[\"HeartDisease\",\"AgeCategory\", \"Stroke\", \"Diabetic\", \"DiffWalking\", 'KidneyDisease', 'Sex','Smoking']])"
      ],
      "metadata": {
        "id": "nXAL-aPxtJT_"
      },
      "execution_count": 215,
      "outputs": []
    },
    {
      "cell_type": "code",
      "source": [
        "df_heartDisease_forTrain.head(2)"
      ],
      "metadata": {
        "id": "xu5OKwr5v9Pz",
        "outputId": "4f28acc5-e129-4465-dc95-58d87d4f0a42",
        "colab": {
          "base_uri": "https://localhost:8080/",
          "height": 0
        }
      },
      "execution_count": 216,
      "outputs": [
        {
          "output_type": "execute_result",
          "data": {
            "text/plain": [
              "   HeartDisease  AgeCategory  PhysicalHealth    BMI  Stroke  MentalHealth  \\\n",
              "0           0.0          7.0             3.0  16.60     0.0          30.0   \n",
              "1           0.0         12.0             0.0  20.34     1.0           0.0   \n",
              "\n",
              "   Diabetic  SleepTime  DiffWalking  KidneyDisease  Sex  Smoking  \n",
              "0       2.0        5.0          0.0            0.0  0.0      1.0  \n",
              "1       0.0        7.0          0.0            0.0  0.0      0.0  "
            ],
            "text/html": [
              "\n",
              "  <div id=\"df-4fb766ed-72c6-4260-ad01-45a177c653c8\">\n",
              "    <div class=\"colab-df-container\">\n",
              "      <div>\n",
              "<style scoped>\n",
              "    .dataframe tbody tr th:only-of-type {\n",
              "        vertical-align: middle;\n",
              "    }\n",
              "\n",
              "    .dataframe tbody tr th {\n",
              "        vertical-align: top;\n",
              "    }\n",
              "\n",
              "    .dataframe thead th {\n",
              "        text-align: right;\n",
              "    }\n",
              "</style>\n",
              "<table border=\"1\" class=\"dataframe\">\n",
              "  <thead>\n",
              "    <tr style=\"text-align: right;\">\n",
              "      <th></th>\n",
              "      <th>HeartDisease</th>\n",
              "      <th>AgeCategory</th>\n",
              "      <th>PhysicalHealth</th>\n",
              "      <th>BMI</th>\n",
              "      <th>Stroke</th>\n",
              "      <th>MentalHealth</th>\n",
              "      <th>Diabetic</th>\n",
              "      <th>SleepTime</th>\n",
              "      <th>DiffWalking</th>\n",
              "      <th>KidneyDisease</th>\n",
              "      <th>Sex</th>\n",
              "      <th>Smoking</th>\n",
              "    </tr>\n",
              "  </thead>\n",
              "  <tbody>\n",
              "    <tr>\n",
              "      <th>0</th>\n",
              "      <td>0.0</td>\n",
              "      <td>7.0</td>\n",
              "      <td>3.0</td>\n",
              "      <td>16.60</td>\n",
              "      <td>0.0</td>\n",
              "      <td>30.0</td>\n",
              "      <td>2.0</td>\n",
              "      <td>5.0</td>\n",
              "      <td>0.0</td>\n",
              "      <td>0.0</td>\n",
              "      <td>0.0</td>\n",
              "      <td>1.0</td>\n",
              "    </tr>\n",
              "    <tr>\n",
              "      <th>1</th>\n",
              "      <td>0.0</td>\n",
              "      <td>12.0</td>\n",
              "      <td>0.0</td>\n",
              "      <td>20.34</td>\n",
              "      <td>1.0</td>\n",
              "      <td>0.0</td>\n",
              "      <td>0.0</td>\n",
              "      <td>7.0</td>\n",
              "      <td>0.0</td>\n",
              "      <td>0.0</td>\n",
              "      <td>0.0</td>\n",
              "      <td>0.0</td>\n",
              "    </tr>\n",
              "  </tbody>\n",
              "</table>\n",
              "</div>\n",
              "      <button class=\"colab-df-convert\" onclick=\"convertToInteractive('df-4fb766ed-72c6-4260-ad01-45a177c653c8')\"\n",
              "              title=\"Convert this dataframe to an interactive table.\"\n",
              "              style=\"display:none;\">\n",
              "        \n",
              "  <svg xmlns=\"http://www.w3.org/2000/svg\" height=\"24px\"viewBox=\"0 0 24 24\"\n",
              "       width=\"24px\">\n",
              "    <path d=\"M0 0h24v24H0V0z\" fill=\"none\"/>\n",
              "    <path d=\"M18.56 5.44l.94 2.06.94-2.06 2.06-.94-2.06-.94-.94-2.06-.94 2.06-2.06.94zm-11 1L8.5 8.5l.94-2.06 2.06-.94-2.06-.94L8.5 2.5l-.94 2.06-2.06.94zm10 10l.94 2.06.94-2.06 2.06-.94-2.06-.94-.94-2.06-.94 2.06-2.06.94z\"/><path d=\"M17.41 7.96l-1.37-1.37c-.4-.4-.92-.59-1.43-.59-.52 0-1.04.2-1.43.59L10.3 9.45l-7.72 7.72c-.78.78-.78 2.05 0 2.83L4 21.41c.39.39.9.59 1.41.59.51 0 1.02-.2 1.41-.59l7.78-7.78 2.81-2.81c.8-.78.8-2.07 0-2.86zM5.41 20L4 18.59l7.72-7.72 1.47 1.35L5.41 20z\"/>\n",
              "  </svg>\n",
              "      </button>\n",
              "      \n",
              "  <style>\n",
              "    .colab-df-container {\n",
              "      display:flex;\n",
              "      flex-wrap:wrap;\n",
              "      gap: 12px;\n",
              "    }\n",
              "\n",
              "    .colab-df-convert {\n",
              "      background-color: #E8F0FE;\n",
              "      border: none;\n",
              "      border-radius: 50%;\n",
              "      cursor: pointer;\n",
              "      display: none;\n",
              "      fill: #1967D2;\n",
              "      height: 32px;\n",
              "      padding: 0 0 0 0;\n",
              "      width: 32px;\n",
              "    }\n",
              "\n",
              "    .colab-df-convert:hover {\n",
              "      background-color: #E2EBFA;\n",
              "      box-shadow: 0px 1px 2px rgba(60, 64, 67, 0.3), 0px 1px 3px 1px rgba(60, 64, 67, 0.15);\n",
              "      fill: #174EA6;\n",
              "    }\n",
              "\n",
              "    [theme=dark] .colab-df-convert {\n",
              "      background-color: #3B4455;\n",
              "      fill: #D2E3FC;\n",
              "    }\n",
              "\n",
              "    [theme=dark] .colab-df-convert:hover {\n",
              "      background-color: #434B5C;\n",
              "      box-shadow: 0px 1px 3px 1px rgba(0, 0, 0, 0.15);\n",
              "      filter: drop-shadow(0px 1px 2px rgba(0, 0, 0, 0.3));\n",
              "      fill: #FFFFFF;\n",
              "    }\n",
              "  </style>\n",
              "\n",
              "      <script>\n",
              "        const buttonEl =\n",
              "          document.querySelector('#df-4fb766ed-72c6-4260-ad01-45a177c653c8 button.colab-df-convert');\n",
              "        buttonEl.style.display =\n",
              "          google.colab.kernel.accessAllowed ? 'block' : 'none';\n",
              "\n",
              "        async function convertToInteractive(key) {\n",
              "          const element = document.querySelector('#df-4fb766ed-72c6-4260-ad01-45a177c653c8');\n",
              "          const dataTable =\n",
              "            await google.colab.kernel.invokeFunction('convertToInteractive',\n",
              "                                                     [key], {});\n",
              "          if (!dataTable) return;\n",
              "\n",
              "          const docLinkHtml = 'Like what you see? Visit the ' +\n",
              "            '<a target=\"_blank\" href=https://colab.research.google.com/notebooks/data_table.ipynb>data table notebook</a>'\n",
              "            + ' to learn more about interactive tables.';\n",
              "          element.innerHTML = '';\n",
              "          dataTable['output_type'] = 'display_data';\n",
              "          await google.colab.output.renderOutput(dataTable, element);\n",
              "          const docLink = document.createElement('div');\n",
              "          docLink.innerHTML = docLinkHtml;\n",
              "          element.appendChild(docLink);\n",
              "        }\n",
              "      </script>\n",
              "    </div>\n",
              "  </div>\n",
              "  "
            ]
          },
          "metadata": {},
          "execution_count": 216
        }
      ]
    },
    {
      "cell_type": "code",
      "source": [
        "X = df_heartDisease_forTrain.iloc[:,1:11]  #independent columns\n",
        "y = df_heartDisease_forTrain['HeartDisease']    #target column i.e price range"
      ],
      "metadata": {
        "id": "v0hG6e4dveTS"
      },
      "execution_count": 217,
      "outputs": []
    },
    {
      "cell_type": "markdown",
      "source": [
        "**Dataframe analyzed and Treated ready for Training**"
      ],
      "metadata": {
        "id": "QmaYbteTwgGL"
      }
    },
    {
      "cell_type": "markdown",
      "source": [
        "# Train and Test Data for the best Model"
      ],
      "metadata": {
        "id": "o8e_Nc_qwtuW"
      }
    },
    {
      "cell_type": "code",
      "source": [
        "from sklearn.model_selection import train_test_split\n",
        "import seaborn as sns\n",
        "\n",
        "from sklearn.ensemble import RandomForestClassifier\n",
        "from sklearn.tree import DecisionTreeClassifier\n",
        "from sklearn import neighbors\n",
        "\n",
        "from sklearn.model_selection import KFold\n",
        "from sklearn.model_selection import cross_val_score\n",
        "\n",
        "from sklearn.metrics import confusion_matrix\n",
        "from sklearn.metrics import classification_report\n",
        "from sklearn.metrics import accuracy_score"
      ],
      "metadata": {
        "id": "_GHc1rctwyKO"
      },
      "execution_count": 218,
      "outputs": []
    },
    {
      "cell_type": "code",
      "source": [
        "x_train, x_test, y_train, y_test = train_test_split ( X, y , test_size=0.2,  stratify=y, random_state=42, shuffle=True)"
      ],
      "metadata": {
        "id": "x0wOAZvLT5-s"
      },
      "execution_count": 219,
      "outputs": []
    },
    {
      "cell_type": "markdown",
      "source": [
        "DECISION TREE MODEL"
      ],
      "metadata": {
        "id": "nhXMbDQkUeJ7"
      }
    },
    {
      "cell_type": "code",
      "source": [
        "#define model\n",
        "dtree_model = DecisionTreeClassifier()\n",
        "\n",
        "#do the fit model vs. dataframe and target\n",
        "dtree_model.fit(x_train, y_train)\n",
        "\n",
        "#prediction results to evaluate accuracy\n",
        "y_pred_dtree = dtree_model.predict(x_test)\n",
        "\n",
        "\n",
        "print(f'Accuracy') \n",
        "print(accuracy_score(y_test, y_pred_dtree))\n",
        "print('\\n')\n",
        "\n",
        "print(f'Confusion Matrix') \n",
        "cf_matrix=confusion_matrix(y_test, y_pred_dtree)\n",
        "ax = sns.heatmap(cf_matrix/np.sum(cf_matrix), annot=True, fmt='.2%', cmap='Blues')\n",
        "ax.set_title('Seaborn Confusion Matrix with labels\\n\\n');\n",
        "ax.set_xlabel('\\nPredicted Values')\n",
        "ax.set_ylabel('Actual Values ');\n",
        "## Ticket labels - List must be in alphabetical order\n",
        "ax.xaxis.set_ticklabels(['False','True'])\n",
        "ax.yaxis.set_ticklabels(['False','True'])\n",
        "## Display the visualization of the Confusion Matrix.\n",
        "plt.show()\n",
        "print('\\n')\n",
        "\n",
        "\n",
        "print(f'Classification Report') \n",
        "print('\\n')\n",
        "print(confusion_matrix(y_test, y_pred_dtree))\n",
        "print(classification_report(y_test, y_pred_dtree))"
      ],
      "metadata": {
        "id": "jG3FY4t8T9eo",
        "outputId": "2d1d2443-8b4c-41c8-a6b8-e3242ffc8eea",
        "colab": {
          "base_uri": "https://localhost:8080/",
          "height": 697
        }
      },
      "execution_count": 220,
      "outputs": [
        {
          "output_type": "stream",
          "name": "stdout",
          "text": [
            "Accuracy\n",
            "0.8728091433574634\n",
            "\n",
            "\n",
            "Confusion Matrix\n"
          ]
        },
        {
          "output_type": "display_data",
          "data": {
            "text/plain": [
              "<Figure size 432x288 with 2 Axes>"
            ],
            "image/png": "[encoded data removed]"
          },
          "metadata": {
            "needs_background": "light"
          }
        },
        {
          "output_type": "stream",
          "name": "stdout",
          "text": [
            "\n",
            "\n",
            "Classification Report\n",
            "\n",
            "\n",
            "[[54667  3817]\n",
            " [ 4318  1157]]\n",
            "              precision    recall  f1-score   support\n",
            "\n",
            "         0.0       0.93      0.93      0.93     58484\n",
            "         1.0       0.23      0.21      0.22      5475\n",
            "\n",
            "    accuracy                           0.87     63959\n",
            "   macro avg       0.58      0.57      0.58     63959\n",
            "weighted avg       0.87      0.87      0.87     63959\n",
            "\n"
          ]
        }
      ]
    },
    {
      "cell_type": "markdown",
      "source": [
        "Precision tells us how many of the correctly predicted cases actually turned out to be positive.\n",
        "\n",
        "Recall tells us how many of the actual positive cases we were able to predict correctly with our model."
      ],
      "metadata": {
        "id": "8MWvzftL7MLn"
      }
    },
    {
      "cell_type": "markdown",
      "source": [
        "RANDOM FOREST MODEL"
      ],
      "metadata": {
        "id": "zSmceUeTUjuF"
      }
    },
    {
      "cell_type": "code",
      "source": [
        "#define model\n",
        "randforest = RandomForestClassifier()\n",
        "\n",
        "#do the fit model vs. dataframe and target\n",
        "f_randforest = randforest.fit(x_train, y_train)\n",
        "\n",
        "#prediction results to evaluate accuracy\n",
        "y_pred_randforest = f_randforest.predict(x_test)\n",
        "\n",
        "print(f'Accuracy') \n",
        "print(accuracy_score(y_test, y_pred_randforest))\n",
        "print('\\n')\n",
        "\n",
        "print(f'Confusion Matrix') \n",
        "cf_matrix=confusion_matrix(y_test, y_pred_randforest)\n",
        "ax = sns.heatmap(cf_matrix/np.sum(cf_matrix), annot=True, fmt='.2%', cmap='Blues')\n",
        "ax.set_title('Seaborn Confusion Matrix with labels\\n\\n');\n",
        "ax.set_xlabel('\\nPredicted Values')\n",
        "ax.set_ylabel('Actual Values ');\n",
        "## Ticket labels - List must be in alphabetical order\n",
        "ax.xaxis.set_ticklabels(['False','True'])\n",
        "ax.yaxis.set_ticklabels(['False','True'])\n",
        "## Display the visualization of the Confusion Matrix.\n",
        "plt.show()\n",
        "print('\\n')\n",
        "\n",
        "\n",
        "print(f'Classification Report') \n",
        "print('\\n')\n",
        "#print(confusion_matrix(y_test, y_pred_randforest))\n",
        "print(classification_report(y_test, y_pred_randforest))"
      ],
      "metadata": {
        "id": "tS2Uid7oT_XD",
        "outputId": "95848332-5599-498c-feaf-b08f7a1852d3",
        "colab": {
          "base_uri": "https://localhost:8080/",
          "height": 662
        }
      },
      "execution_count": 221,
      "outputs": [
        {
          "output_type": "stream",
          "name": "stdout",
          "text": [
            "Accuracy\n",
            "0.8965587329382886\n",
            "\n",
            "\n",
            "Confusion Matrix\n"
          ]
        },
        {
          "output_type": "display_data",
          "data": {
            "text/plain": [
              "<Figure size 432x288 with 2 Axes>"
            ],
            "image/png": "[encoded data removed]"
          },
          "metadata": {
            "needs_background": "light"
          }
        },
        {
          "output_type": "stream",
          "name": "stdout",
          "text": [
            "\n",
            "\n",
            "Classification Report\n",
            "\n",
            "\n",
            "              precision    recall  f1-score   support\n",
            "\n",
            "         0.0       0.92      0.97      0.94     58484\n",
            "         1.0       0.28      0.13      0.18      5475\n",
            "\n",
            "    accuracy                           0.90     63959\n",
            "   macro avg       0.60      0.55      0.56     63959\n",
            "weighted avg       0.87      0.90      0.88     63959\n",
            "\n"
          ]
        }
      ]
    },
    {
      "cell_type": "markdown",
      "source": [
        "KNEIGHBORS MODEL"
      ],
      "metadata": {
        "id": "qXgytulRVC35"
      }
    },
    {
      "cell_type": "code",
      "source": [
        "#define model\n",
        "knn_model = neighbors.KNeighborsClassifier(n_neighbors=5)\n",
        "\n",
        "#do the fit model vs. dataframe and target\n",
        "knn_model.fit(x_train, y_train)\n",
        "\n",
        "#prediction results to evaluate accuracy\n",
        "y_pred_knn = knn_model.predict(x_test)\n",
        "\n",
        "print(f'Accuracy') \n",
        "print(accuracy_score(y_test, y_pred_knn))\n",
        "print('\\n')\n",
        "\n",
        "print(f'Confusion Matrix') \n",
        "cf_matrix=confusion_matrix(y_test, y_pred_knn)\n",
        "ax = sns.heatmap(cf_matrix/np.sum(cf_matrix), annot=True, fmt='.2%', cmap='Blues')\n",
        "ax.set_title('Seaborn Confusion Matrix with labels\\n\\n');\n",
        "ax.set_xlabel('\\nPredicted Values')\n",
        "ax.set_ylabel('Actual Values ');\n",
        "## Ticket labels - List must be in alphabetical order\n",
        "ax.xaxis.set_ticklabels(['False','True'])\n",
        "ax.yaxis.set_ticklabels(['False','True'])\n",
        "## Display the visualization of the Confusion Matrix.\n",
        "plt.show()\n",
        "print('\\n')\n",
        "\n",
        "\n",
        "print(f'Classification Report') \n",
        "print('\\n')\n",
        "#print(confusion_matrix(y_test, y_pred_knn))\n",
        "print(classification_report(y_test,y_pred_knn))"
      ],
      "metadata": {
        "id": "xvJgx359VCnH",
        "outputId": "ff9ec12a-97de-44ac-8a89-4ba2ad01aeb2",
        "colab": {
          "base_uri": "https://localhost:8080/",
          "height": 662
        }
      },
      "execution_count": 222,
      "outputs": [
        {
          "output_type": "stream",
          "name": "stdout",
          "text": [
            "Accuracy\n",
            "0.9067840335214747\n",
            "\n",
            "\n",
            "Confusion Matrix\n"
          ]
        },
        {
          "output_type": "display_data",
          "data": {
            "text/plain": [
              "<Figure size 432x288 with 2 Axes>"
            ],
            "image/png": "[encoded data removed]"
          },
          "metadata": {
            "needs_background": "light"
          }
        },
        {
          "output_type": "stream",
          "name": "stdout",
          "text": [
            "\n",
            "\n",
            "Classification Report\n",
            "\n",
            "\n",
            "              precision    recall  f1-score   support\n",
            "\n",
            "         0.0       0.92      0.98      0.95     58484\n",
            "         1.0       0.32      0.08      0.12      5475\n",
            "\n",
            "    accuracy                           0.91     63959\n",
            "   macro avg       0.62      0.53      0.54     63959\n",
            "weighted avg       0.87      0.91      0.88     63959\n",
            "\n"
          ]
        }
      ]
    },
    {
      "cell_type": "markdown",
      "source": [
        "Using K Neighbors shows the best result (overall). However True Positives aren't easily detected by the model (by Recall method and Confusion matrix). In that way, a sick person would not be detected. A different approach must be made to improve this model"
      ],
      "metadata": {
        "id": "D4svnL1wJwaE"
      }
    },
    {
      "cell_type": "markdown",
      "source": [
        "# Improve Model - Increase Recall and True positive rates"
      ],
      "metadata": {
        "id": "bfQsCZJLKSOa"
      }
    },
    {
      "cell_type": "code",
      "source": [
        "#define model\n",
        "weights = {0:1.0, 1:100.0}\n",
        "dtree_model = DecisionTreeClassifier(class_weight=weights)\n",
        "\n",
        "#do the fit model vs. dataframe and target\n",
        "dtree_model.fit(x_train, y_train)\n",
        "\n",
        "#prediction results to evaluate accuracy\n",
        "y_pred_dtree = dtree_model.predict(x_test)\n",
        "\n",
        "print(f'Accuracy') \n",
        "print(accuracy_score(y_test, y_pred_dtree))\n",
        "print('\\n')\n",
        "\n",
        "print(f'Confusion Matrix') \n",
        "cf_matrix=confusion_matrix(y_test, y_pred_dtree)\n",
        "ax = sns.heatmap(cf_matrix/np.sum(cf_matrix), annot=True, fmt='.2%', cmap='Blues')\n",
        "ax.set_title('Seaborn Confusion Matrix with labels\\n\\n');\n",
        "ax.set_xlabel('\\nPredicted Values')\n",
        "ax.set_ylabel('Actual Values ');\n",
        "## Ticket labels - List must be in alphabetical order\n",
        "ax.xaxis.set_ticklabels(['False','True'])\n",
        "ax.yaxis.set_ticklabels(['False','True'])\n",
        "## Display the visualization of the Confusion Matrix.\n",
        "plt.show()\n",
        "print('\\n')\n",
        "\n",
        "\n",
        "print(f'Classification Report') \n",
        "print('\\n')\n",
        "print(confusion_matrix(y_test, y_pred_dtree))\n",
        "print(classification_report(y_test, y_pred_dtree))"
      ],
      "metadata": {
        "colab": {
          "base_uri": "https://localhost:8080/",
          "height": 697
        },
        "id": "zaA6bBWiKUp3",
        "outputId": "dae00571-988b-4e1c-e0e2-32dcde334f6b"
      },
      "execution_count": 233,
      "outputs": [
        {
          "output_type": "stream",
          "name": "stdout",
          "text": [
            "Accuracy\n",
            "0.8240122578526868\n",
            "\n",
            "\n",
            "Confusion Matrix\n"
          ]
        },
        {
          "output_type": "display_data",
          "data": {
            "text/plain": [
              "<Figure size 432x288 with 2 Axes>"
            ],
            "image/png": "[encoded data removed]"
          },
          "metadata": {
            "needs_background": "light"
          }
        },
        {
          "output_type": "stream",
          "name": "stdout",
          "text": [
            "\n",
            "\n",
            "Classification Report\n",
            "\n",
            "\n",
            "[[51320  7164]\n",
            " [ 4092  1383]]\n",
            "              precision    recall  f1-score   support\n",
            "\n",
            "         0.0       0.93      0.88      0.90     58484\n",
            "         1.0       0.16      0.25      0.20      5475\n",
            "\n",
            "    accuracy                           0.82     63959\n",
            "   macro avg       0.54      0.57      0.55     63959\n",
            "weighted avg       0.86      0.82      0.84     63959\n",
            "\n"
          ]
        }
      ]
    },
    {
      "cell_type": "code",
      "source": [
        ""
      ],
      "metadata": {
        "id": "KtthN9B0LeEU"
      },
      "execution_count": null,
      "outputs": []
    }
  ]
}